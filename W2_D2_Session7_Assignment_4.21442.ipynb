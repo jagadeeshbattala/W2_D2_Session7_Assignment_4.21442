{
 "cells": [
  {
   "cell_type": "markdown",
   "metadata": {},
   "source": [
    "# W2_D2_Session7_Assignment_4.21442"
   ]
  },
  {
   "cell_type": "markdown",
   "metadata": {},
   "source": [
    "## Moving average problem"
   ]
  },
  {
   "cell_type": "code",
   "execution_count": 21,
   "metadata": {},
   "outputs": [],
   "source": [
    "import numpy as np"
   ]
  },
  {
   "cell_type": "code",
   "execution_count": 117,
   "metadata": {},
   "outputs": [],
   "source": [
    "#Function that returns the moving averages by taking nos_array and window_size\n",
    "def movingAverage(nos_array, window_size):\n",
    "    if(len(nos_array) == 0):\n",
    "        return np.array([])\n",
    "    nos_array_len = len(nos_array)\n",
    "    res_array = np.zeros(nos_array_len - window_size + 1)\n",
    "    start_index = 0\n",
    "    for index in range(nos_array_len - window_size + 1):\n",
    "        sum = 0.0\n",
    "        for value in range(index, index + window_size):\n",
    "            sum += nos_array[value]\n",
    "        res_array.put(index, sum/window_size)\n",
    "    return res_array"
   ]
  },
  {
   "cell_type": "code",
   "execution_count": 118,
   "metadata": {},
   "outputs": [
    {
     "data": {
      "text/plain": [
       "array([25., 35., 45., 55., 65., 75., 85.])"
      ]
     },
     "execution_count": 118,
     "metadata": {},
     "output_type": "execute_result"
    }
   ],
   "source": [
    "#Example-1 Output\n",
    "movingAverage(np.array([10, 20, 30, 40, 50, 60, 70, 80, 90, 100]), 4)"
   ]
  },
  {
   "cell_type": "code",
   "execution_count": 120,
   "metadata": {},
   "outputs": [
    {
     "data": {
      "text/plain": [
       "array([  5.        ,   4.66666667,   5.66666667,   6.66666667,\n",
       "         9.66666667,  28.66666667,  49.33333333,  72.66666667,\n",
       "        84.        ,  93.33333333, 116.33333333])"
      ]
     },
     "execution_count": 120,
     "metadata": {},
     "output_type": "execute_result"
    }
   ],
   "source": [
    "#Example-3 Output\n",
    "movingAverage(np.array([3, 5, 7, 2, 8, 10, 11, 65, 72, 81, 99, 100, 150]), 3)"
   ]
  },
  {
   "cell_type": "code",
   "execution_count": null,
   "metadata": {},
   "outputs": [],
   "source": []
  }
 ],
 "metadata": {
  "kernelspec": {
   "display_name": "Python 3",
   "language": "python",
   "name": "python3"
  },
  "language_info": {
   "codemirror_mode": {
    "name": "ipython",
    "version": 3
   },
   "file_extension": ".py",
   "mimetype": "text/x-python",
   "name": "python",
   "nbconvert_exporter": "python",
   "pygments_lexer": "ipython3",
   "version": "3.7.0"
  }
 },
 "nbformat": 4,
 "nbformat_minor": 2
}
